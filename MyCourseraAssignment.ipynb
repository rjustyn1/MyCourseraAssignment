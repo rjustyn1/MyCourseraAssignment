{
 "cells": [
  {
   "cell_type": "markdown",
   "id": "a33347b0",
   "metadata": {},
   "source": [
    "# Data Science Tools and Ecosystem"
   ]
  },
  {
   "cell_type": "markdown",
   "id": "deef9f2b",
   "metadata": {},
   "source": [
    "In this notebook, Data Science Tools and Ecosystem are summarized"
   ]
  },
  {
   "cell_type": "markdown",
   "id": "021a82df",
   "metadata": {},
   "source": [
    "**Objectives:**\n",
    "- List of popular languages in Data Science\n",
    "- List of commonly used libraries in Data Science\n",
    "- List of Open Source Data Science Tools\n",
    "- Example of an arithmetic expression using addition and multiplication\n",
    "- Converting the given amount of time in minutes into hours"
   ]
  },
  {
   "cell_type": "markdown",
   "id": "4ecfc061",
   "metadata": {},
   "source": [
    "Some of the popular languages that Data Scientists use are:\n",
    "1. Python\n",
    "2. R\n",
    "3. SQL"
   ]
  },
  {
   "cell_type": "markdown",
   "id": "a42fbaaa",
   "metadata": {},
   "source": [
    "Some of the commonly used libraries used by Data Scientists include:\n",
    "1. Plotly\n",
    "2. Matplotlib\n",
    "3. TensorFlow"
   ]
  },
  {
   "cell_type": "markdown",
   "id": "73400bdb",
   "metadata": {},
   "source": [
    "| Data Science Tools |\n",
    "|-------|\n",
    "|Visual Studio Code|\n",
    "|Jupyter Notebook|\n",
    "|RStudio|"
   ]
  },
  {
   "cell_type": "markdown",
   "id": "d0f97f04",
   "metadata": {},
   "source": [
    "### Below are a few examples of evaluating arithmetic expressions in Python"
   ]
  },
  {
   "cell_type": "code",
   "execution_count": 7,
   "id": "fb78125f",
   "metadata": {},
   "outputs": [
    {
     "data": {
      "text/plain": [
       "17"
      ]
     },
     "execution_count": 7,
     "metadata": {},
     "output_type": "execute_result"
    }
   ],
   "source": [
    "#This is a simple arithmetic expression to multiply then add integers\n",
    "(3*4)+5"
   ]
  },
  {
   "cell_type": "code",
   "execution_count": 14,
   "id": "0d3f34da",
   "metadata": {},
   "outputs": [
    {
     "name": "stdout",
     "output_type": "stream",
     "text": [
      "3.3333333333333335 hours\n"
     ]
    }
   ],
   "source": [
    "#This will convert 200 minutes into hours by dividing 60\n",
    "given_minutes = 200\n",
    "hour = 60\n",
    "\n",
    "given_hour = given_minutes / hour\n",
    "print(str(given_hour) + ' hours')"
   ]
  },
  {
   "cell_type": "markdown",
   "id": "8d92c7fe",
   "metadata": {},
   "source": [
    "## Author\n",
    "Ryan Justyn"
   ]
  },
  {
   "cell_type": "code",
   "execution_count": null,
   "id": "ff8b7d50",
   "metadata": {},
   "outputs": [],
   "source": []
  }
 ],
 "metadata": {
  "kernelspec": {
   "display_name": "Python 3 (ipykernel)",
   "language": "python",
   "name": "python3"
  },
  "language_info": {
   "codemirror_mode": {
    "name": "ipython",
    "version": 3
   },
   "file_extension": ".py",
   "mimetype": "text/x-python",
   "name": "python",
   "nbconvert_exporter": "python",
   "pygments_lexer": "ipython3",
   "version": "3.11.4"
  }
 },
 "nbformat": 4,
 "nbformat_minor": 5
}
